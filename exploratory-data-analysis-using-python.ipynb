{
 "cells": [
  {
   "cell_type": "markdown",
   "id": "f3e8b0ac",
   "metadata": {
    "papermill": {
     "duration": 0.004765,
     "end_time": "2023-06-25T17:35:35.921531",
     "exception": false,
     "start_time": "2023-06-25T17:35:35.916766",
     "status": "completed"
    },
    "tags": []
   },
   "source": [
    "# Introduction\n",
    "\n",
    "- Exploratory data analysis (EDA) is used by data scientists to analyze and investigate data sets and summarize their main characteristics, often employing data visualization methods. It helps determine how best to manipulate data sources to get the answers you need, making it easier for data scientists to discover patterns, spot anomalies, test a hypothesis, or check assumptions."
   ]
  },
  {
   "cell_type": "markdown",
   "id": "ae9aacf8",
   "metadata": {
    "papermill": {
     "duration": 0.003106,
     "end_time": "2023-06-25T17:35:35.928469",
     "exception": false,
     "start_time": "2023-06-25T17:35:35.925363",
     "status": "completed"
    },
    "tags": []
   },
   "source": [
    "# Exploratory data analysis (EDA)\n",
    "\n",
    "- Learn everything you need to know about exploratory data analysis, a method used to analyze and summarize data sets. \n",
    "\n",
    "- EDA is primarily used to see what data can reveal beyond the formal modeling or hypothesis testing task and provides a provides a better understanding of data set variables and the relationships between them. It can also help determine if the statistical techniques you are considering for data analysis are appropriate. Originally developed by American mathematician John Tukey in the 1970s, EDA techniques continue to be a widely used method in the data discovery process today."
   ]
  },
  {
   "cell_type": "markdown",
   "id": "370ae327",
   "metadata": {
    "papermill": {
     "duration": 0.003119,
     "end_time": "2023-06-25T17:35:35.935232",
     "exception": false,
     "start_time": "2023-06-25T17:35:35.932113",
     "status": "completed"
    },
    "tags": []
   },
   "source": [
    "# EDA in Data Science\n",
    "\n",
    "- The main purpose of EDA is to help look at data before making any assumptions. It can help identify obvious errors, as well as better understand patterns within the data, detect outliers or anomalous events, find interesting relations among the variables.\n",
    "\n",
    "- Data scientists can use exploratory analysis to ensure the results they produce are valid and applicable to any desired business outcomes and goals. EDA also helps stakeholders by confirming they are asking the right questions. EDA can help answer questions about standard deviations, categorical variables, and confidence intervals. Once EDA is complete and insights are drawn, its features can then be used for more sophisticated data analysis or modeling, including machine learning."
   ]
  },
  {
   "cell_type": "markdown",
   "id": "6d5eb994",
   "metadata": {
    "papermill": {
     "duration": 0.002993,
     "end_time": "2023-06-25T17:35:35.941616",
     "exception": false,
     "start_time": "2023-06-25T17:35:35.938623",
     "status": "completed"
    },
    "tags": []
   },
   "source": [
    "# EDA tools\n",
    "- Specific statistical functions and techniques you can perform with EDA tools include:\n",
    "\n",
    "    - Clustering and dimension reduction techniques, which help create graphical displays of high-dimensional data containing many variables.\n",
    "    - Univariate visualization of each field in the raw dataset, with summary statistics.\n",
    "    - Bivariate visualizations and summary statistics that allow you to assess the relationship between each variable in the dataset and the target variable you’re looking at.\n",
    "    - Multivariate visualizations, for mapping and understanding interactions between different fields in the data.\n",
    "    - K-means Clustering is a clustering method in unsupervised learning where data points are assigned into K groups, i.e. the number of clusters, based on the distance from each group’s centroid. The data points closest to a particular centroid will be clustered under the same category. K-means Clustering is commonly used in market segmentation, pattern recognition, and image compression.\n",
    "    - Predictive models, such as linear regression, use statistics and data to predict outcomes."
   ]
  },
  {
   "cell_type": "markdown",
   "id": "62bdb03e",
   "metadata": {
    "papermill": {
     "duration": 0.003015,
     "end_time": "2023-06-25T17:35:35.947907",
     "exception": false,
     "start_time": "2023-06-25T17:35:35.944892",
     "status": "completed"
    },
    "tags": []
   },
   "source": [
    "# Types of EDA\n",
    "- There are four primary types of EDA:\n",
    "\n",
    "    - Univariate non-graphical. This is simplest form of data analysis, where the data being analyzed consists of just one variable. Since it’s a single variable, it doesn’t deal with causes or relationships. The main purpose of univariate analysis is to describe the data and find patterns that exist within it.\n",
    "    - Univariate graphical. Non-graphical methods don’t provide a full picture of the data. Graphical methods are therefore required. Common types of univariate graphics include:\n",
    "        - Stem-and-leaf plots, which show all data values and the shape of the distribution.\n",
    "        - Histograms, a bar plot in which each bar represents the frequency (count) or proportion (count/total count) of cases for a range of values.\n",
    "        - Box plots, which graphically depict the five-number summary of minimum, first quartile, median, third quartile, and maximum.\n",
    "    - Multivariate nongraphical: Multivariate data arises from more than one variable. Multivariate non-graphical EDA techniques generally show the relationship between two or more variables of the data through cross-tabulation or statistics.\n",
    "    - Multivariate graphical: Multivariate data uses graphics to display relationships between two or more sets of data. The most used graphic is a grouped bar plot or bar chart with each group representing one level of one of the variables and each bar within a group representing the levels of the other variable.\n",
    "\n",
    "- Other common types of multivariate graphics include:\n",
    "\n",
    "    - Scatter plot, which is used to plot data points on a horizontal and a vertical axis to show how much one variable is affected by another.\n",
    "    - Multivariate chart, which is a graphical representation of the relationships between factors and a response.\n",
    "    - Run chart, which is a line graph of data plotted over time.\n",
    "    - Bubble chart, which is a data visualization that displays multiple circles (bubbles) in a two-dimensional plot.\n",
    "    - Heat map, which is a graphical representation of data where values are depicted by color."
   ]
  },
  {
   "cell_type": "markdown",
   "id": "7adc22a2",
   "metadata": {
    "papermill": {
     "duration": 0.002977,
     "end_time": "2023-06-25T17:35:35.954147",
     "exception": false,
     "start_time": "2023-06-25T17:35:35.951170",
     "status": "completed"
    },
    "tags": []
   },
   "source": [
    "# EDA Data Science Tools\n",
    "\n",
    "- Some of the most common data science tools used to create an EDA include:\n",
    "\n",
    "    - [Python](https://www.python.org/): An interpreted, object-oriented programming language with dynamic semantics. Its high-level, built-in data structures, combined with dynamic typing and dynamic binding, make it very attractive for rapid application development, as well as for use as a scripting or glue language to connect existing components together. Python and EDA can be used together to identify missing values in a data set, which is important so you can decide how to handle missing values for machine learning.\n",
    "    \n",
    "    - [R](https://www.r-project.org/): An open-source programming language and free software environment for statistical computing and graphics supported by the R Foundation for Statistical Computing. The R language is widely used among statisticians in data science in developing statistical observations and data analysis."
   ]
  },
  {
   "cell_type": "markdown",
   "id": "b33c3e14",
   "metadata": {
    "papermill": {
     "duration": 0.00297,
     "end_time": "2023-06-25T17:35:35.960516",
     "exception": false,
     "start_time": "2023-06-25T17:35:35.957546",
     "status": "completed"
    },
    "tags": []
   },
   "source": [
    "# Import Libraries"
   ]
  },
  {
   "cell_type": "code",
   "execution_count": 1,
   "id": "77ca564d",
   "metadata": {
    "execution": {
     "iopub.execute_input": "2023-06-25T17:35:35.969173Z",
     "iopub.status.busy": "2023-06-25T17:35:35.968502Z",
     "iopub.status.idle": "2023-06-25T17:35:38.105866Z",
     "shell.execute_reply": "2023-06-25T17:35:38.104719Z"
    },
    "papermill": {
     "duration": 2.144717,
     "end_time": "2023-06-25T17:35:38.108508",
     "exception": false,
     "start_time": "2023-06-25T17:35:35.963791",
     "status": "completed"
    },
    "tags": []
   },
   "outputs": [],
   "source": [
    "import pandas as pd\n",
    "import plotly.express as px\n",
    "import plotly.graph_objects as go\n",
    "import plotly.io as pio\n",
    "pio.templates.default = \"plotly_white\""
   ]
  },
  {
   "cell_type": "markdown",
   "id": "21b8ec6f",
   "metadata": {
    "papermill": {
     "duration": 0.004772,
     "end_time": "2023-06-25T17:35:38.116842",
     "exception": false,
     "start_time": "2023-06-25T17:35:38.112070",
     "status": "completed"
    },
    "tags": []
   },
   "source": [
    "# Read Data"
   ]
  },
  {
   "cell_type": "code",
   "execution_count": 2,
   "id": "e0dc9354",
   "metadata": {
    "execution": {
     "iopub.execute_input": "2023-06-25T17:35:38.126038Z",
     "iopub.status.busy": "2023-06-25T17:35:38.125576Z",
     "iopub.status.idle": "2023-06-25T17:35:38.149612Z",
     "shell.execute_reply": "2023-06-25T17:35:38.148675Z"
    },
    "papermill": {
     "duration": 0.031812,
     "end_time": "2023-06-25T17:35:38.152093",
     "exception": false,
     "start_time": "2023-06-25T17:35:38.120281",
     "status": "completed"
    },
    "tags": []
   },
   "outputs": [],
   "source": [
    "data = pd.read_csv(\"/kaggle/input/instagram-data/Instagram data.csv\", encoding='latin-1')"
   ]
  },
  {
   "cell_type": "code",
   "execution_count": 3,
   "id": "4d5a8422",
   "metadata": {
    "execution": {
     "iopub.execute_input": "2023-06-25T17:35:38.165874Z",
     "iopub.status.busy": "2023-06-25T17:35:38.165104Z",
     "iopub.status.idle": "2023-06-25T17:35:38.186539Z",
     "shell.execute_reply": "2023-06-25T17:35:38.185335Z"
    },
    "papermill": {
     "duration": 0.032583,
     "end_time": "2023-06-25T17:35:38.188875",
     "exception": false,
     "start_time": "2023-06-25T17:35:38.156292",
     "status": "completed"
    },
    "tags": []
   },
   "outputs": [
    {
     "name": "stdout",
     "output_type": "stream",
     "text": [
      "   Impressions  From Home  From Hashtags  From Explore  From Other  Saves  \\\n",
      "0         3920       2586           1028           619          56     98   \n",
      "1         5394       2727           1838          1174          78    194   \n",
      "2         4021       2085           1188             0         533     41   \n",
      "3         4528       2700            621           932          73    172   \n",
      "4         2518       1704            255           279          37     96   \n",
      "\n",
      "   Comments  Shares  Likes  Profile Visits  Follows  \\\n",
      "0         9       5    162              35        2   \n",
      "1         7      14    224              48       10   \n",
      "2        11       1    131              62       12   \n",
      "3        10       7    213              23        8   \n",
      "4         5       4    123               8        0   \n",
      "\n",
      "                                             Caption  \\\n",
      "0  Here are some of the most important data visua...   \n",
      "1  Here are some of the best data science project...   \n",
      "2  Learn how to train a machine learning model an...   \n",
      "3  Heres how you can write a Python program to d...   \n",
      "4  Plotting annotations while visualizing your da...   \n",
      "\n",
      "                                            Hashtags  \n",
      "0  #finance #money #business #investing #investme...  \n",
      "1  #healthcare #health #covid #data #datascience ...  \n",
      "2  #data #datascience #dataanalysis #dataanalytic...  \n",
      "3  #python #pythonprogramming #pythonprojects #py...  \n",
      "4  #datavisualization #datascience #data #dataana...  \n"
     ]
    }
   ],
   "source": [
    "print(data.head())"
   ]
  },
  {
   "cell_type": "code",
   "execution_count": 4,
   "id": "88adaad3",
   "metadata": {
    "execution": {
     "iopub.execute_input": "2023-06-25T17:35:38.197956Z",
     "iopub.status.busy": "2023-06-25T17:35:38.197555Z",
     "iopub.status.idle": "2023-06-25T17:35:38.203815Z",
     "shell.execute_reply": "2023-06-25T17:35:38.202646Z"
    },
    "papermill": {
     "duration": 0.01333,
     "end_time": "2023-06-25T17:35:38.205938",
     "exception": false,
     "start_time": "2023-06-25T17:35:38.192608",
     "status": "completed"
    },
    "tags": []
   },
   "outputs": [
    {
     "name": "stdout",
     "output_type": "stream",
     "text": [
      "Index(['Impressions', 'From Home', 'From Hashtags', 'From Explore',\n",
      "       'From Other', 'Saves', 'Comments', 'Shares', 'Likes', 'Profile Visits',\n",
      "       'Follows', 'Caption', 'Hashtags'],\n",
      "      dtype='object')\n"
     ]
    }
   ],
   "source": [
    "print(data.columns)"
   ]
  },
  {
   "cell_type": "code",
   "execution_count": 5,
   "id": "63f86ff0",
   "metadata": {
    "execution": {
     "iopub.execute_input": "2023-06-25T17:35:38.214709Z",
     "iopub.status.busy": "2023-06-25T17:35:38.214326Z",
     "iopub.status.idle": "2023-06-25T17:35:38.239256Z",
     "shell.execute_reply": "2023-06-25T17:35:38.237535Z"
    },
    "papermill": {
     "duration": 0.032097,
     "end_time": "2023-06-25T17:35:38.241700",
     "exception": false,
     "start_time": "2023-06-25T17:35:38.209603",
     "status": "completed"
    },
    "tags": []
   },
   "outputs": [
    {
     "name": "stdout",
     "output_type": "stream",
     "text": [
      "<class 'pandas.core.frame.DataFrame'>\n",
      "RangeIndex: 119 entries, 0 to 118\n",
      "Data columns (total 13 columns):\n",
      " #   Column          Non-Null Count  Dtype \n",
      "---  ------          --------------  ----- \n",
      " 0   Impressions     119 non-null    int64 \n",
      " 1   From Home       119 non-null    int64 \n",
      " 2   From Hashtags   119 non-null    int64 \n",
      " 3   From Explore    119 non-null    int64 \n",
      " 4   From Other      119 non-null    int64 \n",
      " 5   Saves           119 non-null    int64 \n",
      " 6   Comments        119 non-null    int64 \n",
      " 7   Shares          119 non-null    int64 \n",
      " 8   Likes           119 non-null    int64 \n",
      " 9   Profile Visits  119 non-null    int64 \n",
      " 10  Follows         119 non-null    int64 \n",
      " 11  Caption         119 non-null    object\n",
      " 12  Hashtags        119 non-null    object\n",
      "dtypes: int64(11), object(2)\n",
      "memory usage: 12.2+ KB\n",
      "None\n"
     ]
    }
   ],
   "source": [
    "print(data.info())"
   ]
  }
 ],
 "metadata": {
  "kernelspec": {
   "display_name": "Python 3",
   "language": "python",
   "name": "python3"
  },
  "language_info": {
   "codemirror_mode": {
    "name": "ipython",
    "version": 3
   },
   "file_extension": ".py",
   "mimetype": "text/x-python",
   "name": "python",
   "nbconvert_exporter": "python",
   "pygments_lexer": "ipython3",
   "version": "3.10.10"
  },
  "papermill": {
   "default_parameters": {},
   "duration": 15.533449,
   "end_time": "2023-06-25T17:35:39.268328",
   "environment_variables": {},
   "exception": null,
   "input_path": "__notebook__.ipynb",
   "output_path": "__notebook__.ipynb",
   "parameters": {},
   "start_time": "2023-06-25T17:35:23.734879",
   "version": "2.4.0"
  }
 },
 "nbformat": 4,
 "nbformat_minor": 5
}
