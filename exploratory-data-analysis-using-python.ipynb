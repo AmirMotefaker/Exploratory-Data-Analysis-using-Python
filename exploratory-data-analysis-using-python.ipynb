{
 "cells": [
  {
   "cell_type": "markdown",
   "id": "786b770d",
   "metadata": {
    "papermill": {
     "duration": 0.005485,
     "end_time": "2023-06-25T17:36:14.740552",
     "exception": false,
     "start_time": "2023-06-25T17:36:14.735067",
     "status": "completed"
    },
    "tags": []
   },
   "source": [
    "# Introduction\n",
    "\n",
    "- Exploratory data analysis (EDA) is used by data scientists to analyze and investigate data sets and summarize their main characteristics, often employing data visualization methods. It helps determine how best to manipulate data sources to get the answers you need, making it easier for data scientists to discover patterns, spot anomalies, test a hypothesis, or check assumptions."
   ]
  },
  {
   "cell_type": "markdown",
   "id": "c9eb6db3",
   "metadata": {
    "papermill": {
     "duration": 0.004461,
     "end_time": "2023-06-25T17:36:14.750062",
     "exception": false,
     "start_time": "2023-06-25T17:36:14.745601",
     "status": "completed"
    },
    "tags": []
   },
   "source": [
    "# Exploratory data analysis (EDA)\n",
    "\n",
    "- Learn everything you need to know about exploratory data analysis, a method used to analyze and summarize data sets. \n",
    "\n",
    "- EDA is primarily used to see what data can reveal beyond the formal modeling or hypothesis testing task and provides a provides a better understanding of data set variables and the relationships between them. It can also help determine if the statistical techniques you are considering for data analysis are appropriate. Originally developed by American mathematician John Tukey in the 1970s, EDA techniques continue to be a widely used method in the data discovery process today."
   ]
  },
  {
   "cell_type": "markdown",
   "id": "f7efae38",
   "metadata": {
    "papermill": {
     "duration": 0.00451,
     "end_time": "2023-06-25T17:36:14.759326",
     "exception": false,
     "start_time": "2023-06-25T17:36:14.754816",
     "status": "completed"
    },
    "tags": []
   },
   "source": [
    "# EDA in Data Science\n",
    "\n",
    "- The main purpose of EDA is to help look at data before making any assumptions. It can help identify obvious errors, as well as better understand patterns within the data, detect outliers or anomalous events, find interesting relations among the variables.\n",
    "\n",
    "- Data scientists can use exploratory analysis to ensure the results they produce are valid and applicable to any desired business outcomes and goals. EDA also helps stakeholders by confirming they are asking the right questions. EDA can help answer questions about standard deviations, categorical variables, and confidence intervals. Once EDA is complete and insights are drawn, its features can then be used for more sophisticated data analysis or modeling, including machine learning."
   ]
  },
  {
   "cell_type": "markdown",
   "id": "67ddb564",
   "metadata": {
    "papermill": {
     "duration": 0.004357,
     "end_time": "2023-06-25T17:36:14.768365",
     "exception": false,
     "start_time": "2023-06-25T17:36:14.764008",
     "status": "completed"
    },
    "tags": []
   },
   "source": [
    "# EDA tools\n",
    "- Specific statistical functions and techniques you can perform with EDA tools include:\n",
    "\n",
    "    - Clustering and dimension reduction techniques, which help create graphical displays of high-dimensional data containing many variables.\n",
    "    - Univariate visualization of each field in the raw dataset, with summary statistics.\n",
    "    - Bivariate visualizations and summary statistics that allow you to assess the relationship between each variable in the dataset and the target variable you’re looking at.\n",
    "    - Multivariate visualizations, for mapping and understanding interactions between different fields in the data.\n",
    "    - K-means Clustering is a clustering method in unsupervised learning where data points are assigned into K groups, i.e. the number of clusters, based on the distance from each group’s centroid. The data points closest to a particular centroid will be clustered under the same category. K-means Clustering is commonly used in market segmentation, pattern recognition, and image compression.\n",
    "    - Predictive models, such as linear regression, use statistics and data to predict outcomes."
   ]
  },
  {
   "cell_type": "markdown",
   "id": "bf4e4180",
   "metadata": {
    "papermill": {
     "duration": 0.004263,
     "end_time": "2023-06-25T17:36:14.777140",
     "exception": false,
     "start_time": "2023-06-25T17:36:14.772877",
     "status": "completed"
    },
    "tags": []
   },
   "source": [
    "# Types of EDA\n",
    "- There are four primary types of EDA:\n",
    "\n",
    "    - Univariate non-graphical. This is simplest form of data analysis, where the data being analyzed consists of just one variable. Since it’s a single variable, it doesn’t deal with causes or relationships. The main purpose of univariate analysis is to describe the data and find patterns that exist within it.\n",
    "    - Univariate graphical. Non-graphical methods don’t provide a full picture of the data. Graphical methods are therefore required. Common types of univariate graphics include:\n",
    "        - Stem-and-leaf plots, which show all data values and the shape of the distribution.\n",
    "        - Histograms, a bar plot in which each bar represents the frequency (count) or proportion (count/total count) of cases for a range of values.\n",
    "        - Box plots, which graphically depict the five-number summary of minimum, first quartile, median, third quartile, and maximum.\n",
    "    - Multivariate nongraphical: Multivariate data arises from more than one variable. Multivariate non-graphical EDA techniques generally show the relationship between two or more variables of the data through cross-tabulation or statistics.\n",
    "    - Multivariate graphical: Multivariate data uses graphics to display relationships between two or more sets of data. The most used graphic is a grouped bar plot or bar chart with each group representing one level of one of the variables and each bar within a group representing the levels of the other variable.\n",
    "\n",
    "- Other common types of multivariate graphics include:\n",
    "\n",
    "    - Scatter plot, which is used to plot data points on a horizontal and a vertical axis to show how much one variable is affected by another.\n",
    "    - Multivariate chart, which is a graphical representation of the relationships between factors and a response.\n",
    "    - Run chart, which is a line graph of data plotted over time.\n",
    "    - Bubble chart, which is a data visualization that displays multiple circles (bubbles) in a two-dimensional plot.\n",
    "    - Heat map, which is a graphical representation of data where values are depicted by color."
   ]
  },
  {
   "cell_type": "markdown",
   "id": "5f42a1e7",
   "metadata": {
    "papermill": {
     "duration": 0.004479,
     "end_time": "2023-06-25T17:36:14.786143",
     "exception": false,
     "start_time": "2023-06-25T17:36:14.781664",
     "status": "completed"
    },
    "tags": []
   },
   "source": [
    "# EDA Data Science Tools\n",
    "\n",
    "- Some of the most common data science tools used to create an EDA include:\n",
    "\n",
    "    - [Python](https://www.python.org/): An interpreted, object-oriented programming language with dynamic semantics. Its high-level, built-in data structures, combined with dynamic typing and dynamic binding, make it very attractive for rapid application development, as well as for use as a scripting or glue language to connect existing components together. Python and EDA can be used together to identify missing values in a data set, which is important so you can decide how to handle missing values for machine learning.\n",
    "    \n",
    "    - [R](https://www.r-project.org/): An open-source programming language and free software environment for statistical computing and graphics supported by the R Foundation for Statistical Computing. The R language is widely used among statisticians in data science in developing statistical observations and data analysis."
   ]
  },
  {
   "cell_type": "markdown",
   "id": "926697f8",
   "metadata": {
    "papermill": {
     "duration": 0.004376,
     "end_time": "2023-06-25T17:36:14.795099",
     "exception": false,
     "start_time": "2023-06-25T17:36:14.790723",
     "status": "completed"
    },
    "tags": []
   },
   "source": [
    "# Import Libraries"
   ]
  },
  {
   "cell_type": "code",
   "execution_count": 1,
   "id": "1827fcf1",
   "metadata": {
    "execution": {
     "iopub.execute_input": "2023-06-25T17:36:14.806274Z",
     "iopub.status.busy": "2023-06-25T17:36:14.805852Z",
     "iopub.status.idle": "2023-06-25T17:36:17.002670Z",
     "shell.execute_reply": "2023-06-25T17:36:17.001362Z"
    },
    "papermill": {
     "duration": 2.205881,
     "end_time": "2023-06-25T17:36:17.005598",
     "exception": false,
     "start_time": "2023-06-25T17:36:14.799717",
     "status": "completed"
    },
    "tags": []
   },
   "outputs": [],
   "source": [
    "import pandas as pd\n",
    "import plotly.express as px\n",
    "import plotly.graph_objects as go\n",
    "import plotly.io as pio\n",
    "pio.templates.default = \"plotly_white\""
   ]
  },
  {
   "cell_type": "markdown",
   "id": "7429a2c7",
   "metadata": {
    "papermill": {
     "duration": 0.00455,
     "end_time": "2023-06-25T17:36:17.016714",
     "exception": false,
     "start_time": "2023-06-25T17:36:17.012164",
     "status": "completed"
    },
    "tags": []
   },
   "source": [
    "# Read Data"
   ]
  },
  {
   "cell_type": "code",
   "execution_count": 2,
   "id": "c2ad0e6b",
   "metadata": {
    "execution": {
     "iopub.execute_input": "2023-06-25T17:36:17.028015Z",
     "iopub.status.busy": "2023-06-25T17:36:17.027636Z",
     "iopub.status.idle": "2023-06-25T17:36:17.054132Z",
     "shell.execute_reply": "2023-06-25T17:36:17.053021Z"
    },
    "papermill": {
     "duration": 0.035608,
     "end_time": "2023-06-25T17:36:17.057087",
     "exception": false,
     "start_time": "2023-06-25T17:36:17.021479",
     "status": "completed"
    },
    "tags": []
   },
   "outputs": [],
   "source": [
    "data = pd.read_csv(\"/kaggle/input/instagram-data/Instagram data.csv\", encoding='latin-1')"
   ]
  },
  {
   "cell_type": "code",
   "execution_count": 3,
   "id": "0cb90bc4",
   "metadata": {
    "execution": {
     "iopub.execute_input": "2023-06-25T17:36:17.068950Z",
     "iopub.status.busy": "2023-06-25T17:36:17.068357Z",
     "iopub.status.idle": "2023-06-25T17:36:17.092004Z",
     "shell.execute_reply": "2023-06-25T17:36:17.090859Z"
    },
    "papermill": {
     "duration": 0.033448,
     "end_time": "2023-06-25T17:36:17.095478",
     "exception": false,
     "start_time": "2023-06-25T17:36:17.062030",
     "status": "completed"
    },
    "tags": []
   },
   "outputs": [
    {
     "name": "stdout",
     "output_type": "stream",
     "text": [
      "   Impressions  From Home  From Hashtags  From Explore  From Other  Saves  \\\n",
      "0         3920       2586           1028           619          56     98   \n",
      "1         5394       2727           1838          1174          78    194   \n",
      "2         4021       2085           1188             0         533     41   \n",
      "3         4528       2700            621           932          73    172   \n",
      "4         2518       1704            255           279          37     96   \n",
      "\n",
      "   Comments  Shares  Likes  Profile Visits  Follows  \\\n",
      "0         9       5    162              35        2   \n",
      "1         7      14    224              48       10   \n",
      "2        11       1    131              62       12   \n",
      "3        10       7    213              23        8   \n",
      "4         5       4    123               8        0   \n",
      "\n",
      "                                             Caption  \\\n",
      "0  Here are some of the most important data visua...   \n",
      "1  Here are some of the best data science project...   \n",
      "2  Learn how to train a machine learning model an...   \n",
      "3  Heres how you can write a Python program to d...   \n",
      "4  Plotting annotations while visualizing your da...   \n",
      "\n",
      "                                            Hashtags  \n",
      "0  #finance #money #business #investing #investme...  \n",
      "1  #healthcare #health #covid #data #datascience ...  \n",
      "2  #data #datascience #dataanalysis #dataanalytic...  \n",
      "3  #python #pythonprogramming #pythonprojects #py...  \n",
      "4  #datavisualization #datascience #data #dataana...  \n"
     ]
    }
   ],
   "source": [
    "print(data.head())"
   ]
  },
  {
   "cell_type": "code",
   "execution_count": 4,
   "id": "aaae879a",
   "metadata": {
    "execution": {
     "iopub.execute_input": "2023-06-25T17:36:17.108251Z",
     "iopub.status.busy": "2023-06-25T17:36:17.107598Z",
     "iopub.status.idle": "2023-06-25T17:36:17.114339Z",
     "shell.execute_reply": "2023-06-25T17:36:17.112855Z"
    },
    "papermill": {
     "duration": 0.016115,
     "end_time": "2023-06-25T17:36:17.116820",
     "exception": false,
     "start_time": "2023-06-25T17:36:17.100705",
     "status": "completed"
    },
    "tags": []
   },
   "outputs": [
    {
     "name": "stdout",
     "output_type": "stream",
     "text": [
      "Index(['Impressions', 'From Home', 'From Hashtags', 'From Explore',\n",
      "       'From Other', 'Saves', 'Comments', 'Shares', 'Likes', 'Profile Visits',\n",
      "       'Follows', 'Caption', 'Hashtags'],\n",
      "      dtype='object')\n"
     ]
    }
   ],
   "source": [
    "print(data.columns)"
   ]
  },
  {
   "cell_type": "code",
   "execution_count": 5,
   "id": "d37be4d3",
   "metadata": {
    "execution": {
     "iopub.execute_input": "2023-06-25T17:36:17.128880Z",
     "iopub.status.busy": "2023-06-25T17:36:17.128509Z",
     "iopub.status.idle": "2023-06-25T17:36:17.156355Z",
     "shell.execute_reply": "2023-06-25T17:36:17.155132Z"
    },
    "papermill": {
     "duration": 0.03698,
     "end_time": "2023-06-25T17:36:17.159059",
     "exception": false,
     "start_time": "2023-06-25T17:36:17.122079",
     "status": "completed"
    },
    "tags": []
   },
   "outputs": [
    {
     "name": "stdout",
     "output_type": "stream",
     "text": [
      "<class 'pandas.core.frame.DataFrame'>\n",
      "RangeIndex: 119 entries, 0 to 118\n",
      "Data columns (total 13 columns):\n",
      " #   Column          Non-Null Count  Dtype \n",
      "---  ------          --------------  ----- \n",
      " 0   Impressions     119 non-null    int64 \n",
      " 1   From Home       119 non-null    int64 \n",
      " 2   From Hashtags   119 non-null    int64 \n",
      " 3   From Explore    119 non-null    int64 \n",
      " 4   From Other      119 non-null    int64 \n",
      " 5   Saves           119 non-null    int64 \n",
      " 6   Comments        119 non-null    int64 \n",
      " 7   Shares          119 non-null    int64 \n",
      " 8   Likes           119 non-null    int64 \n",
      " 9   Profile Visits  119 non-null    int64 \n",
      " 10  Follows         119 non-null    int64 \n",
      " 11  Caption         119 non-null    object\n",
      " 12  Hashtags        119 non-null    object\n",
      "dtypes: int64(11), object(2)\n",
      "memory usage: 12.2+ KB\n",
      "None\n"
     ]
    }
   ],
   "source": [
    "print(data.info())"
   ]
  },
  {
   "cell_type": "code",
   "execution_count": 6,
   "id": "8dfe97ea",
   "metadata": {
    "execution": {
     "iopub.execute_input": "2023-06-25T17:36:17.172476Z",
     "iopub.status.busy": "2023-06-25T17:36:17.171835Z",
     "iopub.status.idle": "2023-06-25T17:36:17.212655Z",
     "shell.execute_reply": "2023-06-25T17:36:17.211310Z"
    },
    "papermill": {
     "duration": 0.050689,
     "end_time": "2023-06-25T17:36:17.215352",
     "exception": false,
     "start_time": "2023-06-25T17:36:17.164663",
     "status": "completed"
    },
    "tags": []
   },
   "outputs": [
    {
     "name": "stdout",
     "output_type": "stream",
     "text": [
      "        Impressions     From Home  From Hashtags  From Explore   From Other  \\\n",
      "count    119.000000    119.000000     119.000000    119.000000   119.000000   \n",
      "mean    5703.991597   2475.789916    1887.512605   1078.100840   171.092437   \n",
      "std     4843.780105   1489.386348    1884.361443   2613.026132   289.431031   \n",
      "min     1941.000000   1133.000000     116.000000      0.000000     9.000000   \n",
      "25%     3467.000000   1945.000000     726.000000    157.500000    38.000000   \n",
      "50%     4289.000000   2207.000000    1278.000000    326.000000    74.000000   \n",
      "75%     6138.000000   2602.500000    2363.500000    689.500000   196.000000   \n",
      "max    36919.000000  13473.000000   11817.000000  17414.000000  2547.000000   \n",
      "\n",
      "             Saves    Comments      Shares       Likes  Profile Visits  \\\n",
      "count   119.000000  119.000000  119.000000  119.000000      119.000000   \n",
      "mean    153.310924    6.663866    9.361345  173.781513       50.621849   \n",
      "std     156.317731    3.544576   10.089205   82.378947       87.088402   \n",
      "min      22.000000    0.000000    0.000000   72.000000        4.000000   \n",
      "25%      65.000000    4.000000    3.000000  121.500000       15.000000   \n",
      "50%     109.000000    6.000000    6.000000  151.000000       23.000000   \n",
      "75%     169.000000    8.000000   13.500000  204.000000       42.000000   \n",
      "max    1095.000000   19.000000   75.000000  549.000000      611.000000   \n",
      "\n",
      "          Follows  \n",
      "count  119.000000  \n",
      "mean    20.756303  \n",
      "std     40.921580  \n",
      "min      0.000000  \n",
      "25%      4.000000  \n",
      "50%      8.000000  \n",
      "75%     18.000000  \n",
      "max    260.000000  \n"
     ]
    }
   ],
   "source": [
    "print(data.describe())"
   ]
  },
  {
   "cell_type": "code",
   "execution_count": 7,
   "id": "c3d27113",
   "metadata": {
    "execution": {
     "iopub.execute_input": "2023-06-25T17:36:17.228150Z",
     "iopub.status.busy": "2023-06-25T17:36:17.227761Z",
     "iopub.status.idle": "2023-06-25T17:36:17.236459Z",
     "shell.execute_reply": "2023-06-25T17:36:17.235134Z"
    },
    "papermill": {
     "duration": 0.017728,
     "end_time": "2023-06-25T17:36:17.238716",
     "exception": false,
     "start_time": "2023-06-25T17:36:17.220988",
     "status": "completed"
    },
    "tags": []
   },
   "outputs": [
    {
     "name": "stdout",
     "output_type": "stream",
     "text": [
      "Impressions       0\n",
      "From Home         0\n",
      "From Hashtags     0\n",
      "From Explore      0\n",
      "From Other        0\n",
      "Saves             0\n",
      "Comments          0\n",
      "Shares            0\n",
      "Likes             0\n",
      "Profile Visits    0\n",
      "Follows           0\n",
      "Caption           0\n",
      "Hashtags          0\n",
      "dtype: int64\n"
     ]
    }
   ],
   "source": [
    "print(data.isnull().sum())"
   ]
  }
 ],
 "metadata": {
  "kernelspec": {
   "display_name": "Python 3",
   "language": "python",
   "name": "python3"
  },
  "language_info": {
   "codemirror_mode": {
    "name": "ipython",
    "version": 3
   },
   "file_extension": ".py",
   "mimetype": "text/x-python",
   "name": "python",
   "nbconvert_exporter": "python",
   "pygments_lexer": "ipython3",
   "version": "3.10.10"
  },
  "papermill": {
   "default_parameters": {},
   "duration": 15.481731,
   "end_time": "2023-06-25T17:36:18.167337",
   "environment_variables": {},
   "exception": null,
   "input_path": "__notebook__.ipynb",
   "output_path": "__notebook__.ipynb",
   "parameters": {},
   "start_time": "2023-06-25T17:36:02.685606",
   "version": "2.4.0"
  }
 },
 "nbformat": 4,
 "nbformat_minor": 5
}
