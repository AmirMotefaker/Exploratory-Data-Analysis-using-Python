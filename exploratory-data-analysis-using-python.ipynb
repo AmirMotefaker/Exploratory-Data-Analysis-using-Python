{
 "cells": [
  {
   "cell_type": "markdown",
   "id": "06e9877d",
   "metadata": {
    "papermill": {
     "duration": 0.004689,
     "end_time": "2023-06-25T17:35:22.030304",
     "exception": false,
     "start_time": "2023-06-25T17:35:22.025615",
     "status": "completed"
    },
    "tags": []
   },
   "source": [
    "# Introduction\n",
    "\n",
    "- Exploratory data analysis (EDA) is used by data scientists to analyze and investigate data sets and summarize their main characteristics, often employing data visualization methods. It helps determine how best to manipulate data sources to get the answers you need, making it easier for data scientists to discover patterns, spot anomalies, test a hypothesis, or check assumptions."
   ]
  },
  {
   "cell_type": "markdown",
   "id": "22a40aa8",
   "metadata": {
    "papermill": {
     "duration": 0.003791,
     "end_time": "2023-06-25T17:35:22.038448",
     "exception": false,
     "start_time": "2023-06-25T17:35:22.034657",
     "status": "completed"
    },
    "tags": []
   },
   "source": [
    "# Exploratory data analysis (EDA)\n",
    "\n",
    "- Learn everything you need to know about exploratory data analysis, a method used to analyze and summarize data sets. \n",
    "\n",
    "- EDA is primarily used to see what data can reveal beyond the formal modeling or hypothesis testing task and provides a provides a better understanding of data set variables and the relationships between them. It can also help determine if the statistical techniques you are considering for data analysis are appropriate. Originally developed by American mathematician John Tukey in the 1970s, EDA techniques continue to be a widely used method in the data discovery process today."
   ]
  },
  {
   "cell_type": "markdown",
   "id": "2d6b0672",
   "metadata": {
    "papermill": {
     "duration": 0.003939,
     "end_time": "2023-06-25T17:35:22.046903",
     "exception": false,
     "start_time": "2023-06-25T17:35:22.042964",
     "status": "completed"
    },
    "tags": []
   },
   "source": [
    "# EDA in Data Science\n",
    "\n",
    "- The main purpose of EDA is to help look at data before making any assumptions. It can help identify obvious errors, as well as better understand patterns within the data, detect outliers or anomalous events, find interesting relations among the variables.\n",
    "\n",
    "- Data scientists can use exploratory analysis to ensure the results they produce are valid and applicable to any desired business outcomes and goals. EDA also helps stakeholders by confirming they are asking the right questions. EDA can help answer questions about standard deviations, categorical variables, and confidence intervals. Once EDA is complete and insights are drawn, its features can then be used for more sophisticated data analysis or modeling, including machine learning."
   ]
  },
  {
   "cell_type": "markdown",
   "id": "76b4749e",
   "metadata": {
    "papermill": {
     "duration": 0.004021,
     "end_time": "2023-06-25T17:35:22.055156",
     "exception": false,
     "start_time": "2023-06-25T17:35:22.051135",
     "status": "completed"
    },
    "tags": []
   },
   "source": [
    "# EDA tools\n",
    "- Specific statistical functions and techniques you can perform with EDA tools include:\n",
    "\n",
    "    - Clustering and dimension reduction techniques, which help create graphical displays of high-dimensional data containing many variables.\n",
    "    - Univariate visualization of each field in the raw dataset, with summary statistics.\n",
    "    - Bivariate visualizations and summary statistics that allow you to assess the relationship between each variable in the dataset and the target variable you’re looking at.\n",
    "    - Multivariate visualizations, for mapping and understanding interactions between different fields in the data.\n",
    "    - K-means Clustering is a clustering method in unsupervised learning where data points are assigned into K groups, i.e. the number of clusters, based on the distance from each group’s centroid. The data points closest to a particular centroid will be clustered under the same category. K-means Clustering is commonly used in market segmentation, pattern recognition, and image compression.\n",
    "    - Predictive models, such as linear regression, use statistics and data to predict outcomes."
   ]
  },
  {
   "cell_type": "markdown",
   "id": "7c40a095",
   "metadata": {
    "papermill": {
     "duration": 0.003871,
     "end_time": "2023-06-25T17:35:22.063466",
     "exception": false,
     "start_time": "2023-06-25T17:35:22.059595",
     "status": "completed"
    },
    "tags": []
   },
   "source": [
    "# Types of EDA\n",
    "- There are four primary types of EDA:\n",
    "\n",
    "    - Univariate non-graphical. This is simplest form of data analysis, where the data being analyzed consists of just one variable. Since it’s a single variable, it doesn’t deal with causes or relationships. The main purpose of univariate analysis is to describe the data and find patterns that exist within it.\n",
    "    - Univariate graphical. Non-graphical methods don’t provide a full picture of the data. Graphical methods are therefore required. Common types of univariate graphics include:\n",
    "        - Stem-and-leaf plots, which show all data values and the shape of the distribution.\n",
    "        - Histograms, a bar plot in which each bar represents the frequency (count) or proportion (count/total count) of cases for a range of values.\n",
    "        - Box plots, which graphically depict the five-number summary of minimum, first quartile, median, third quartile, and maximum.\n",
    "    - Multivariate nongraphical: Multivariate data arises from more than one variable. Multivariate non-graphical EDA techniques generally show the relationship between two or more variables of the data through cross-tabulation or statistics.\n",
    "    - Multivariate graphical: Multivariate data uses graphics to display relationships between two or more sets of data. The most used graphic is a grouped bar plot or bar chart with each group representing one level of one of the variables and each bar within a group representing the levels of the other variable.\n",
    "\n",
    "- Other common types of multivariate graphics include:\n",
    "\n",
    "    - Scatter plot, which is used to plot data points on a horizontal and a vertical axis to show how much one variable is affected by another.\n",
    "    - Multivariate chart, which is a graphical representation of the relationships between factors and a response.\n",
    "    - Run chart, which is a line graph of data plotted over time.\n",
    "    - Bubble chart, which is a data visualization that displays multiple circles (bubbles) in a two-dimensional plot.\n",
    "    - Heat map, which is a graphical representation of data where values are depicted by color."
   ]
  },
  {
   "cell_type": "markdown",
   "id": "2fa7eb1e",
   "metadata": {
    "papermill": {
     "duration": 0.003751,
     "end_time": "2023-06-25T17:35:22.071306",
     "exception": false,
     "start_time": "2023-06-25T17:35:22.067555",
     "status": "completed"
    },
    "tags": []
   },
   "source": [
    "# EDA Data Science Tools\n",
    "\n",
    "- Some of the most common data science tools used to create an EDA include:\n",
    "\n",
    "    - [Python](https://www.python.org/): An interpreted, object-oriented programming language with dynamic semantics. Its high-level, built-in data structures, combined with dynamic typing and dynamic binding, make it very attractive for rapid application development, as well as for use as a scripting or glue language to connect existing components together. Python and EDA can be used together to identify missing values in a data set, which is important so you can decide how to handle missing values for machine learning.\n",
    "    \n",
    "    - [R](https://www.r-project.org/): An open-source programming language and free software environment for statistical computing and graphics supported by the R Foundation for Statistical Computing. The R language is widely used among statisticians in data science in developing statistical observations and data analysis."
   ]
  },
  {
   "cell_type": "markdown",
   "id": "17261b64",
   "metadata": {
    "papermill": {
     "duration": 0.003806,
     "end_time": "2023-06-25T17:35:22.079211",
     "exception": false,
     "start_time": "2023-06-25T17:35:22.075405",
     "status": "completed"
    },
    "tags": []
   },
   "source": [
    "# Import Libraries"
   ]
  },
  {
   "cell_type": "code",
   "execution_count": 1,
   "id": "9dc1483f",
   "metadata": {
    "execution": {
     "iopub.execute_input": "2023-06-25T17:35:22.089349Z",
     "iopub.status.busy": "2023-06-25T17:35:22.088841Z",
     "iopub.status.idle": "2023-06-25T17:35:24.428945Z",
     "shell.execute_reply": "2023-06-25T17:35:24.427754Z"
    },
    "papermill": {
     "duration": 2.348686,
     "end_time": "2023-06-25T17:35:24.431936",
     "exception": false,
     "start_time": "2023-06-25T17:35:22.083250",
     "status": "completed"
    },
    "tags": []
   },
   "outputs": [],
   "source": [
    "import pandas as pd\n",
    "import plotly.express as px\n",
    "import plotly.graph_objects as go\n",
    "import plotly.io as pio\n",
    "pio.templates.default = \"plotly_white\""
   ]
  },
  {
   "cell_type": "markdown",
   "id": "3037157b",
   "metadata": {
    "papermill": {
     "duration": 0.003856,
     "end_time": "2023-06-25T17:35:24.440086",
     "exception": false,
     "start_time": "2023-06-25T17:35:24.436230",
     "status": "completed"
    },
    "tags": []
   },
   "source": [
    "# Read Data"
   ]
  },
  {
   "cell_type": "code",
   "execution_count": 2,
   "id": "4aa54332",
   "metadata": {
    "execution": {
     "iopub.execute_input": "2023-06-25T17:35:24.451795Z",
     "iopub.status.busy": "2023-06-25T17:35:24.451361Z",
     "iopub.status.idle": "2023-06-25T17:35:24.485390Z",
     "shell.execute_reply": "2023-06-25T17:35:24.484253Z"
    },
    "papermill": {
     "duration": 0.043972,
     "end_time": "2023-06-25T17:35:24.488162",
     "exception": false,
     "start_time": "2023-06-25T17:35:24.444190",
     "status": "completed"
    },
    "tags": []
   },
   "outputs": [],
   "source": [
    "data = pd.read_csv(\"/kaggle/input/instagram-data/Instagram data.csv\", encoding='latin-1')"
   ]
  },
  {
   "cell_type": "code",
   "execution_count": 3,
   "id": "0ce1f08f",
   "metadata": {
    "execution": {
     "iopub.execute_input": "2023-06-25T17:35:24.498410Z",
     "iopub.status.busy": "2023-06-25T17:35:24.497998Z",
     "iopub.status.idle": "2023-06-25T17:35:24.523078Z",
     "shell.execute_reply": "2023-06-25T17:35:24.521257Z"
    },
    "papermill": {
     "duration": 0.033422,
     "end_time": "2023-06-25T17:35:24.525918",
     "exception": false,
     "start_time": "2023-06-25T17:35:24.492496",
     "status": "completed"
    },
    "tags": []
   },
   "outputs": [
    {
     "name": "stdout",
     "output_type": "stream",
     "text": [
      "   Impressions  From Home  From Hashtags  From Explore  From Other  Saves  \\\n",
      "0         3920       2586           1028           619          56     98   \n",
      "1         5394       2727           1838          1174          78    194   \n",
      "2         4021       2085           1188             0         533     41   \n",
      "3         4528       2700            621           932          73    172   \n",
      "4         2518       1704            255           279          37     96   \n",
      "\n",
      "   Comments  Shares  Likes  Profile Visits  Follows  \\\n",
      "0         9       5    162              35        2   \n",
      "1         7      14    224              48       10   \n",
      "2        11       1    131              62       12   \n",
      "3        10       7    213              23        8   \n",
      "4         5       4    123               8        0   \n",
      "\n",
      "                                             Caption  \\\n",
      "0  Here are some of the most important data visua...   \n",
      "1  Here are some of the best data science project...   \n",
      "2  Learn how to train a machine learning model an...   \n",
      "3  Heres how you can write a Python program to d...   \n",
      "4  Plotting annotations while visualizing your da...   \n",
      "\n",
      "                                            Hashtags  \n",
      "0  #finance #money #business #investing #investme...  \n",
      "1  #healthcare #health #covid #data #datascience ...  \n",
      "2  #data #datascience #dataanalysis #dataanalytic...  \n",
      "3  #python #pythonprogramming #pythonprojects #py...  \n",
      "4  #datavisualization #datascience #data #dataana...  \n"
     ]
    }
   ],
   "source": [
    "print(data.head())"
   ]
  },
  {
   "cell_type": "code",
   "execution_count": 4,
   "id": "335f0e9a",
   "metadata": {
    "execution": {
     "iopub.execute_input": "2023-06-25T17:35:24.536548Z",
     "iopub.status.busy": "2023-06-25T17:35:24.536076Z",
     "iopub.status.idle": "2023-06-25T17:35:24.541879Z",
     "shell.execute_reply": "2023-06-25T17:35:24.540768Z"
    },
    "papermill": {
     "duration": 0.014036,
     "end_time": "2023-06-25T17:35:24.544328",
     "exception": false,
     "start_time": "2023-06-25T17:35:24.530292",
     "status": "completed"
    },
    "tags": []
   },
   "outputs": [
    {
     "name": "stdout",
     "output_type": "stream",
     "text": [
      "Index(['Impressions', 'From Home', 'From Hashtags', 'From Explore',\n",
      "       'From Other', 'Saves', 'Comments', 'Shares', 'Likes', 'Profile Visits',\n",
      "       'Follows', 'Caption', 'Hashtags'],\n",
      "      dtype='object')\n"
     ]
    }
   ],
   "source": [
    "print(data.columns)"
   ]
  }
 ],
 "metadata": {
  "kernelspec": {
   "display_name": "Python 3",
   "language": "python",
   "name": "python3"
  },
  "language_info": {
   "codemirror_mode": {
    "name": "ipython",
    "version": 3
   },
   "file_extension": ".py",
   "mimetype": "text/x-python",
   "name": "python",
   "nbconvert_exporter": "python",
   "pygments_lexer": "ipython3",
   "version": "3.10.10"
  },
  "papermill": {
   "default_parameters": {},
   "duration": 16.346056,
   "end_time": "2023-06-25T17:35:25.572156",
   "environment_variables": {},
   "exception": null,
   "input_path": "__notebook__.ipynb",
   "output_path": "__notebook__.ipynb",
   "parameters": {},
   "start_time": "2023-06-25T17:35:09.226100",
   "version": "2.4.0"
  }
 },
 "nbformat": 4,
 "nbformat_minor": 5
}
