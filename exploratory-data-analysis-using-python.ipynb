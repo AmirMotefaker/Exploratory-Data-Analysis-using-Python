{
 "cells": [
  {
   "cell_type": "markdown",
   "id": "caaadbf3",
   "metadata": {
    "papermill": {
     "duration": 0.0038,
     "end_time": "2023-06-25T17:34:54.785564",
     "exception": false,
     "start_time": "2023-06-25T17:34:54.781764",
     "status": "completed"
    },
    "tags": []
   },
   "source": [
    "# Introduction\n",
    "\n",
    "- Exploratory data analysis (EDA) is used by data scientists to analyze and investigate data sets and summarize their main characteristics, often employing data visualization methods. It helps determine how best to manipulate data sources to get the answers you need, making it easier for data scientists to discover patterns, spot anomalies, test a hypothesis, or check assumptions."
   ]
  },
  {
   "cell_type": "markdown",
   "id": "b537eec8",
   "metadata": {
    "papermill": {
     "duration": 0.002656,
     "end_time": "2023-06-25T17:34:54.791421",
     "exception": false,
     "start_time": "2023-06-25T17:34:54.788765",
     "status": "completed"
    },
    "tags": []
   },
   "source": [
    "# Exploratory data analysis (EDA)\n",
    "\n",
    "- Learn everything you need to know about exploratory data analysis, a method used to analyze and summarize data sets. \n",
    "\n",
    "- EDA is primarily used to see what data can reveal beyond the formal modeling or hypothesis testing task and provides a provides a better understanding of data set variables and the relationships between them. It can also help determine if the statistical techniques you are considering for data analysis are appropriate. Originally developed by American mathematician John Tukey in the 1970s, EDA techniques continue to be a widely used method in the data discovery process today."
   ]
  },
  {
   "cell_type": "markdown",
   "id": "7c1bc991",
   "metadata": {
    "papermill": {
     "duration": 0.003092,
     "end_time": "2023-06-25T17:34:54.797368",
     "exception": false,
     "start_time": "2023-06-25T17:34:54.794276",
     "status": "completed"
    },
    "tags": []
   },
   "source": [
    "# EDA in Data Science\n",
    "\n",
    "- The main purpose of EDA is to help look at data before making any assumptions. It can help identify obvious errors, as well as better understand patterns within the data, detect outliers or anomalous events, find interesting relations among the variables.\n",
    "\n",
    "- Data scientists can use exploratory analysis to ensure the results they produce are valid and applicable to any desired business outcomes and goals. EDA also helps stakeholders by confirming they are asking the right questions. EDA can help answer questions about standard deviations, categorical variables, and confidence intervals. Once EDA is complete and insights are drawn, its features can then be used for more sophisticated data analysis or modeling, including machine learning."
   ]
  },
  {
   "cell_type": "markdown",
   "id": "231d8909",
   "metadata": {
    "papermill": {
     "duration": 0.002795,
     "end_time": "2023-06-25T17:34:54.803609",
     "exception": false,
     "start_time": "2023-06-25T17:34:54.800814",
     "status": "completed"
    },
    "tags": []
   },
   "source": [
    "# EDA tools\n",
    "- Specific statistical functions and techniques you can perform with EDA tools include:\n",
    "\n",
    "    - Clustering and dimension reduction techniques, which help create graphical displays of high-dimensional data containing many variables.\n",
    "    - Univariate visualization of each field in the raw dataset, with summary statistics.\n",
    "    - Bivariate visualizations and summary statistics that allow you to assess the relationship between each variable in the dataset and the target variable you’re looking at.\n",
    "    - Multivariate visualizations, for mapping and understanding interactions between different fields in the data.\n",
    "    - K-means Clustering is a clustering method in unsupervised learning where data points are assigned into K groups, i.e. the number of clusters, based on the distance from each group’s centroid. The data points closest to a particular centroid will be clustered under the same category. K-means Clustering is commonly used in market segmentation, pattern recognition, and image compression.\n",
    "    - Predictive models, such as linear regression, use statistics and data to predict outcomes."
   ]
  },
  {
   "cell_type": "markdown",
   "id": "640f86aa",
   "metadata": {
    "papermill": {
     "duration": 0.002651,
     "end_time": "2023-06-25T17:34:54.809698",
     "exception": false,
     "start_time": "2023-06-25T17:34:54.807047",
     "status": "completed"
    },
    "tags": []
   },
   "source": [
    "# Types of EDA\n",
    "- There are four primary types of EDA:\n",
    "\n",
    "    - Univariate non-graphical. This is simplest form of data analysis, where the data being analyzed consists of just one variable. Since it’s a single variable, it doesn’t deal with causes or relationships. The main purpose of univariate analysis is to describe the data and find patterns that exist within it.\n",
    "    - Univariate graphical. Non-graphical methods don’t provide a full picture of the data. Graphical methods are therefore required. Common types of univariate graphics include:\n",
    "        - Stem-and-leaf plots, which show all data values and the shape of the distribution.\n",
    "        - Histograms, a bar plot in which each bar represents the frequency (count) or proportion (count/total count) of cases for a range of values.\n",
    "        - Box plots, which graphically depict the five-number summary of minimum, first quartile, median, third quartile, and maximum.\n",
    "    - Multivariate nongraphical: Multivariate data arises from more than one variable. Multivariate non-graphical EDA techniques generally show the relationship between two or more variables of the data through cross-tabulation or statistics.\n",
    "    - Multivariate graphical: Multivariate data uses graphics to display relationships between two or more sets of data. The most used graphic is a grouped bar plot or bar chart with each group representing one level of one of the variables and each bar within a group representing the levels of the other variable.\n",
    "\n",
    "- Other common types of multivariate graphics include:\n",
    "\n",
    "    - Scatter plot, which is used to plot data points on a horizontal and a vertical axis to show how much one variable is affected by another.\n",
    "    - Multivariate chart, which is a graphical representation of the relationships between factors and a response.\n",
    "    - Run chart, which is a line graph of data plotted over time.\n",
    "    - Bubble chart, which is a data visualization that displays multiple circles (bubbles) in a two-dimensional plot.\n",
    "    - Heat map, which is a graphical representation of data where values are depicted by color."
   ]
  },
  {
   "cell_type": "markdown",
   "id": "f592ec64",
   "metadata": {
    "papermill": {
     "duration": 0.002687,
     "end_time": "2023-06-25T17:34:54.815224",
     "exception": false,
     "start_time": "2023-06-25T17:34:54.812537",
     "status": "completed"
    },
    "tags": []
   },
   "source": [
    "# EDA Data Science Tools\n",
    "\n",
    "- Some of the most common data science tools used to create an EDA include:\n",
    "\n",
    "    - [Python](https://www.python.org/): An interpreted, object-oriented programming language with dynamic semantics. Its high-level, built-in data structures, combined with dynamic typing and dynamic binding, make it very attractive for rapid application development, as well as for use as a scripting or glue language to connect existing components together. Python and EDA can be used together to identify missing values in a data set, which is important so you can decide how to handle missing values for machine learning.\n",
    "    \n",
    "    - [R](https://www.r-project.org/): An open-source programming language and free software environment for statistical computing and graphics supported by the R Foundation for Statistical Computing. The R language is widely used among statisticians in data science in developing statistical observations and data analysis."
   ]
  },
  {
   "cell_type": "markdown",
   "id": "b837f535",
   "metadata": {
    "papermill": {
     "duration": 0.002561,
     "end_time": "2023-06-25T17:34:54.820900",
     "exception": false,
     "start_time": "2023-06-25T17:34:54.818339",
     "status": "completed"
    },
    "tags": []
   },
   "source": [
    "# Import Libraries"
   ]
  },
  {
   "cell_type": "code",
   "execution_count": 1,
   "id": "9d01c6f9",
   "metadata": {
    "execution": {
     "iopub.execute_input": "2023-06-25T17:34:54.829841Z",
     "iopub.status.busy": "2023-06-25T17:34:54.828979Z",
     "iopub.status.idle": "2023-06-25T17:34:57.135337Z",
     "shell.execute_reply": "2023-06-25T17:34:57.134092Z"
    },
    "papermill": {
     "duration": 2.314367,
     "end_time": "2023-06-25T17:34:57.138189",
     "exception": false,
     "start_time": "2023-06-25T17:34:54.823822",
     "status": "completed"
    },
    "tags": []
   },
   "outputs": [],
   "source": [
    "import pandas as pd\n",
    "import plotly.express as px\n",
    "import plotly.graph_objects as go\n",
    "import plotly.io as pio\n",
    "pio.templates.default = \"plotly_white\""
   ]
  },
  {
   "cell_type": "markdown",
   "id": "38679b09",
   "metadata": {
    "papermill": {
     "duration": 0.002684,
     "end_time": "2023-06-25T17:34:57.144620",
     "exception": false,
     "start_time": "2023-06-25T17:34:57.141936",
     "status": "completed"
    },
    "tags": []
   },
   "source": [
    "# Read Data"
   ]
  },
  {
   "cell_type": "code",
   "execution_count": 2,
   "id": "8141b53f",
   "metadata": {
    "execution": {
     "iopub.execute_input": "2023-06-25T17:34:57.152601Z",
     "iopub.status.busy": "2023-06-25T17:34:57.152199Z",
     "iopub.status.idle": "2023-06-25T17:34:57.176430Z",
     "shell.execute_reply": "2023-06-25T17:34:57.175346Z"
    },
    "papermill": {
     "duration": 0.031296,
     "end_time": "2023-06-25T17:34:57.178861",
     "exception": false,
     "start_time": "2023-06-25T17:34:57.147565",
     "status": "completed"
    },
    "tags": []
   },
   "outputs": [],
   "source": [
    "data = pd.read_csv(\"/kaggle/input/instagram-data/Instagram data.csv\", encoding='latin-1')"
   ]
  }
 ],
 "metadata": {
  "kernelspec": {
   "display_name": "Python 3",
   "language": "python",
   "name": "python3"
  },
  "language_info": {
   "codemirror_mode": {
    "name": "ipython",
    "version": 3
   },
   "file_extension": ".py",
   "mimetype": "text/x-python",
   "name": "python",
   "nbconvert_exporter": "python",
   "pygments_lexer": "ipython3",
   "version": "3.10.10"
  },
  "papermill": {
   "default_parameters": {},
   "duration": 15.42221,
   "end_time": "2023-06-25T17:34:58.104345",
   "environment_variables": {},
   "exception": null,
   "input_path": "__notebook__.ipynb",
   "output_path": "__notebook__.ipynb",
   "parameters": {},
   "start_time": "2023-06-25T17:34:42.682135",
   "version": "2.4.0"
  }
 },
 "nbformat": 4,
 "nbformat_minor": 5
}
