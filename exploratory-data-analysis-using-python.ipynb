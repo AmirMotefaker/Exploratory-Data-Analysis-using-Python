{
 "cells": [
  {
   "cell_type": "markdown",
   "id": "48192457",
   "metadata": {
    "papermill": {
     "duration": 0.002139,
     "end_time": "2023-06-24T17:07:01.790640",
     "exception": false,
     "start_time": "2023-06-24T17:07:01.788501",
     "status": "completed"
    },
    "tags": []
   },
   "source": [
    "# Introduction\n",
    "\n",
    "- Exploratory data analysis (EDA) is used by data scientists to analyze and investigate data sets and summarize their main characteristics, often employing data visualization methods. It helps determine how best to manipulate data sources to get the answers you need, making it easier for data scientists to discover patterns, spot anomalies, test a hypothesis, or check assumptions."
   ]
  },
  {
   "cell_type": "markdown",
   "id": "6da4263e",
   "metadata": {
    "papermill": {
     "duration": 0.001338,
     "end_time": "2023-06-24T17:07:01.793962",
     "exception": false,
     "start_time": "2023-06-24T17:07:01.792624",
     "status": "completed"
    },
    "tags": []
   },
   "source": [
    "# What is exploratory data analysis?\n",
    "\n",
    "- Learn everything you need to know about exploratory data analysis, a method used to analyze and summarize data sets. \n",
    "\n",
    "- EDA is primarily used to see what data can reveal beyond the formal modeling or hypothesis testing task and provides a provides a better understanding of data set variables and the relationships between them. It can also help determine if the statistical techniques you are considering for data analysis are appropriate. Originally developed by American mathematician John Tukey in the 1970s, EDA techniques continue to be a widely used method in the data discovery process today."
   ]
  }
 ],
 "metadata": {
  "kernelspec": {
   "display_name": "Python 3",
   "language": "python",
   "name": "python3"
  },
  "language_info": {
   "codemirror_mode": {
    "name": "ipython",
    "version": 3
   },
   "file_extension": ".py",
   "mimetype": "text/x-python",
   "name": "python",
   "nbconvert_exporter": "python",
   "pygments_lexer": "ipython3",
   "version": "3.10.10"
  },
  "papermill": {
   "default_parameters": {},
   "duration": 15.72507,
   "end_time": "2023-06-24T17:07:02.723758",
   "environment_variables": {},
   "exception": null,
   "input_path": "__notebook__.ipynb",
   "output_path": "__notebook__.ipynb",
   "parameters": {},
   "start_time": "2023-06-24T17:06:46.998688",
   "version": "2.4.0"
  }
 },
 "nbformat": 4,
 "nbformat_minor": 5
}
